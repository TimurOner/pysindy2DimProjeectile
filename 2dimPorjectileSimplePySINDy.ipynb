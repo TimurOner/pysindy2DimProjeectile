{
  "nbformat": 4,
  "nbformat_minor": 0,
  "metadata": {
    "colab": {
      "provenance": []
    },
    "kernelspec": {
      "name": "python3",
      "display_name": "Python 3"
    },
    "language_info": {
      "name": "python"
    }
  },
  "cells": [
    {
      "cell_type": "markdown",
      "source": [
        "\n",
        "This code containts a simple application of PySINDY. In this code, firstly noisy data will be generated. This data represents the x and y coordinates of a free-falling projectile. After that, the equation of the free-fall motion will be recovered using sparse identification by PySINDy. \n",
        "\n"
      ],
      "metadata": {
        "id": "Dswdim14Vn05"
      }
    },
    {
      "cell_type": "code",
      "source": [
        "!pip install pysindy # Downloading PySINDy."
      ],
      "metadata": {
        "id": "nvmUK5MzZTVD",
        "colab": {
          "base_uri": "https://localhost:8080/"
        },
        "outputId": "cf9b0cda-a935-4a69-80c0-fa9dbfb06de9"
      },
      "execution_count": 18,
      "outputs": [
        {
          "output_type": "stream",
          "name": "stdout",
          "text": [
            "Looking in indexes: https://pypi.org/simple, https://us-python.pkg.dev/colab-wheels/public/simple/\n",
            "Requirement already satisfied: pysindy in /usr/local/lib/python3.7/dist-packages (1.7.2)\n",
            "Requirement already satisfied: scipy in /usr/local/lib/python3.7/dist-packages (from pysindy) (1.7.3)\n",
            "Requirement already satisfied: derivative in /usr/local/lib/python3.7/dist-packages (from pysindy) (0.4.2)\n",
            "Requirement already satisfied: cmake in /usr/local/lib/python3.7/dist-packages (from pysindy) (3.22.6)\n",
            "Requirement already satisfied: scikit-learn>=0.23 in /usr/local/lib/python3.7/dist-packages (from pysindy) (1.0.2)\n",
            "Requirement already satisfied: numpy in /usr/local/lib/python3.7/dist-packages (from pysindy) (1.21.6)\n",
            "Requirement already satisfied: matplotlib in /usr/local/lib/python3.7/dist-packages (from pysindy) (3.2.2)\n",
            "Requirement already satisfied: threadpoolctl>=2.0.0 in /usr/local/lib/python3.7/dist-packages (from scikit-learn>=0.23->pysindy) (3.1.0)\n",
            "Requirement already satisfied: joblib>=0.11 in /usr/local/lib/python3.7/dist-packages (from scikit-learn>=0.23->pysindy) (1.2.0)\n",
            "Requirement already satisfied: sklearn<0.1,>=0.0 in /usr/local/lib/python3.7/dist-packages (from derivative->pysindy) (0.0)\n",
            "Requirement already satisfied: python-dateutil>=2.1 in /usr/local/lib/python3.7/dist-packages (from matplotlib->pysindy) (2.8.2)\n",
            "Requirement already satisfied: kiwisolver>=1.0.1 in /usr/local/lib/python3.7/dist-packages (from matplotlib->pysindy) (1.4.4)\n",
            "Requirement already satisfied: pyparsing!=2.0.4,!=2.1.2,!=2.1.6,>=2.0.1 in /usr/local/lib/python3.7/dist-packages (from matplotlib->pysindy) (3.0.9)\n",
            "Requirement already satisfied: cycler>=0.10 in /usr/local/lib/python3.7/dist-packages (from matplotlib->pysindy) (0.11.0)\n",
            "Requirement already satisfied: typing-extensions in /usr/local/lib/python3.7/dist-packages (from kiwisolver>=1.0.1->matplotlib->pysindy) (4.1.1)\n",
            "Requirement already satisfied: six>=1.5 in /usr/local/lib/python3.7/dist-packages (from python-dateutil>=2.1->matplotlib->pysindy) (1.15.0)\n"
          ]
        }
      ]
    },
    {
      "cell_type": "code",
      "execution_count": 233,
      "metadata": {
        "id": "ttZmMpwkIgTm"
      },
      "outputs": [],
      "source": [
        "import numpy as np\n",
        "import pandas as pd     # Importing the necesarry libraries and packages. \n",
        "import pysindy as ps\n",
        "import matplotlib.pyplot as plt\n",
        "from scipy.integrate import solve_ivp\n",
        "%matplotlib inline\n",
        "\n"
      ]
    },
    {
      "cell_type": "markdown",
      "source": [
        "Firtsly, the functions which will be used during the code are defined."
      ],
      "metadata": {
        "id": "YC6uuMOpWnDy"
      }
    },
    {
      "cell_type": "code",
      "source": [
        "def projectile2dim(t,state,g):\n",
        "\n",
        "  # This is the function which will be used in scipy.integrate to generate the training data.\n",
        "  \n",
        "  x,vx,y,vy = state\n",
        "\n",
        "  dx = vx\n",
        "  dvx = 0\n",
        "  dy = vy\n",
        "  dvy = -g\n",
        "\n",
        "  return [dx,dvx,dy,dvy]"
      ],
      "metadata": {
        "id": "xbufJYwk-g3R"
      },
      "execution_count": 234,
      "outputs": []
    },
    {
      "cell_type": "code",
      "source": [
        "def generateData(init,tStart,tStop,dt,noiseLevel):\n",
        "\n",
        "  # This function generates noisy data to train the PySINDy model.\n",
        "\n",
        "  # Input Arguments: \n",
        "  # - init(type:list): Initial condition in a list. The format is [x,vx,y,vy] where vx and vy are speeds.\n",
        "  # - tStart(type:float): The starting time of generation of data.\n",
        "  # - tStop(type:float): The stopping time of generation of data.\n",
        "  # - dt(type:float): The time interval between data points.\n",
        "  # - noiseLevel(type:float): The level (variance) of the noise that will be added to the generated data. \n",
        "\n",
        "  # Output Arguments:\n",
        "  # - x_train(type:numpy array) : The training data array.\n",
        "  # - t_train(type:numpy array) : The training data time instants in an array.\n",
        "\n",
        "\n",
        "\n",
        "  integrator_keywords = {}\n",
        "  integrator_keywords['rtol'] = 1e-12\n",
        "  integrator_keywords['method'] = 'LSODA'\n",
        "  integrator_keywords['atol'] = 1e-12\n",
        "  \n",
        "  g = 10\n",
        "  args = [g]\n",
        "\n",
        "  t_train = np.arange(tStart, tStop, dt) \n",
        "  t_train_span = (t_train[0], t_train[-1])\n",
        "\n",
        "  #  Solution according to the inital values provided by 'x0_train'. \n",
        "  x_train = solve_ivp(projectile2dim, t_train_span,                                  \n",
        "                    init, t_eval=t_train,**integrator_keywords,args=args).y.T\n",
        "  \n",
        "  # Creating and adding the specified amount of Additive White Gaussian Noise (AWGN). \n",
        "\n",
        "  for i in range(3):\n",
        "   noiseVector = np.random.normal(0,pow(noiseLevel,2),len(x_train))\n",
        "   x_train[:,i] = x_train[:,i] + noiseVector\n",
        "  \n",
        "  return x_train,t_train\n",
        "  "
      ],
      "metadata": {
        "id": "e_dSSnODUh2N"
      },
      "execution_count": 21,
      "outputs": []
    },
    {
      "cell_type": "code",
      "source": [
        "def plotTrajectory(Xplot):\n",
        "\n",
        "    # This function plots the data arrays to visualize the results. This function works for 2 cases:\n",
        "    # plotting a single data array and comparing 2 data arrays. In the first case only a numpy array \n",
        "    # should be passed to the function. In the second case, a list of arrays should be paseed. The\n",
        "    # list can contain only 2 different data arrays.\n",
        "\n",
        "    # Input Arguments: \n",
        "    # - Xplot(type:list or numpy array): The array or list of arrays which will be visualized.\n",
        "     \n",
        "\n",
        "    plt.figure(figsize=(9,7), dpi=100)\n",
        "\n",
        "    if type(Xplot) != list:\n",
        "    \n",
        "   \n",
        "     x = Xplot[:,0]\n",
        "     y = Xplot[:,2]\n",
        "   \n",
        "     plt.plot(x, y)\n",
        "     plt.ylabel('Y-Coordinate')\n",
        "     plt.xlabel('X-Coordinate') \n",
        "     plt.title('Plot of the Trajectory')\n",
        "     plt.grid(True)\n",
        "\n",
        "    else:\n",
        "\n",
        "    \n",
        "     x1 = Xplot[0][:,0]\n",
        "     y1 = Xplot[0][:,2]\n",
        "     x2 = Xplot[1][:,0]\n",
        "     y2 = Xplot[1][:,2]\n",
        "    \n",
        "     plt.plot(x1, y1, color='r', label='Prediction')\n",
        "     plt.plot(x2, y2, color='b', label='Training')\n",
        "     plt.ylabel('Y-Coordinate')\n",
        "     plt.xlabel('X-Coordinate') \n",
        "     plt.title('Plot of the Trajectory')\n",
        "     plt.grid(True)\n",
        "     plt.legend()\n",
        "\n",
        "\n",
        "  \n",
        "\n"
      ],
      "metadata": {
        "id": "7DWlzm2_AMzS"
      },
      "execution_count": 150,
      "outputs": []
    },
    {
      "cell_type": "markdown",
      "source": [
        "Now, comes the main code. Firstly, we define the necesarry parameters for the simulation and generate the training data for the PySINDy."
      ],
      "metadata": {
        "id": "ZDbr4NeqWlpT"
      }
    },
    {
      "cell_type": "code",
      "source": [
        "initial_condition = [1,3,2,-3] # Defining the initial condition.\n",
        "\n",
        "tStart = 0  # The time of the start of training data.\n",
        "tStop = 4   # The time of the stop of the training data(the traning data stops at tStop-dt).\n",
        "dt =  0.1   # Time step.\n",
        "noiseLevel = 0.2  # Variance of the AWGN added. Note that the noise is added to all 4 dynamical variables of the system independently. \n"
      ],
      "metadata": {
        "id": "1l3jZdnyUh7j"
      },
      "execution_count": 238,
      "outputs": []
    },
    {
      "cell_type": "markdown",
      "source": [
        "Now, generating the training data."
      ],
      "metadata": {
        "id": "hG8KRn92NTsC"
      }
    },
    {
      "cell_type": "code",
      "source": [
        "Xtrain,ttrain = generateData(initial_condition,tStart,tStop,dt,noiseLevel) # Generation of the training data with the specified params.\n"
      ],
      "metadata": {
        "id": "Q0Ptzcq7UiEE"
      },
      "execution_count": 239,
      "outputs": []
    },
    {
      "cell_type": "markdown",
      "source": [
        "Plotted the generated data.\n",
        "\n",
        "\n",
        "\n",
        "\n",
        "\n"
      ],
      "metadata": {
        "id": "7ECxX51FNfWM"
      }
    },
    {
      "cell_type": "code",
      "source": [
        "plotTrajectory(Xtrain)      # The trajectory."
      ],
      "metadata": {
        "colab": {
          "base_uri": "https://localhost:8080/",
          "height": 631
        },
        "id": "2jGmiklp-eZs",
        "outputId": "dc3ec4ea-b949-4e57-d4e2-d3dfee14c807"
      },
      "execution_count": 240,
      "outputs": [
        {
          "output_type": "display_data",
          "data": {
            "text/plain": [
              "<Figure size 900x700 with 1 Axes>"
            ],
            "image/png": "[encoded data removed]"
          },
          "metadata": {
            "needs_background": "light"
          }
        }
      ]
    },
    {
      "cell_type": "markdown",
      "source": [
        "Now, comes the PySINDy part. We first, choose the model parameters and methods for our PySINDy model."
      ],
      "metadata": {
        "id": "5fs175y2NlgA"
      }
    },
    {
      "cell_type": "code",
      "source": [
        "# Choosing the correct optimizer and correct parameters. Note that this parameters\n",
        "# are critical in obtaining the correct equations.So they must be tuned (manually for now).\n",
        "from pysindy.optimizers import STLSQ\n",
        "opt = STLSQ(threshold=0.5, alpha=1,max_iter=100, verbose=True)\n"
      ],
      "metadata": {
        "id": "Td2ImDCZDwW-"
      },
      "execution_count": 241,
      "outputs": []
    },
    {
      "cell_type": "code",
      "source": [
        "# Choosing the feature libraries.\n",
        "\n",
        "from pysindy.feature_library import IdentityLibrary\n",
        "from pysindy.feature_library import PolynomialLibrary\n",
        "identityLib = ps.IdentityLibrary()\n",
        "polyLib = ps.PolynomialLibrary(degree=0)\n",
        "feature_lib = polyLib + identityLib\n"
      ],
      "metadata": {
        "id": "54sSDUm-FCq9"
      },
      "execution_count": 242,
      "outputs": []
    },
    {
      "cell_type": "code",
      "source": [
        "# Choosing the differentiation method. \n",
        "from pysindy.differentiation import SmoothedFiniteDifference\n",
        "diffMethod = SmoothedFiniteDifference()\n"
      ],
      "metadata": {
        "id": "ci1nRdOhFJmB"
      },
      "execution_count": 243,
      "outputs": []
    },
    {
      "cell_type": "markdown",
      "source": [
        "Now, we initialize and fit our model."
      ],
      "metadata": {
        "id": "UO7tEpaFOSM7"
      }
    },
    {
      "cell_type": "code",
      "source": [
        "model = ps.SINDy(\n",
        "        optimizer=opt,\n",
        "        feature_library=feature_lib,\n",
        "        discrete_time = False,\n",
        "        feature_names = ['x','vx','y','vy']\n",
        "\n",
        "    )"
      ],
      "metadata": {
        "id": "he8tRU_jFKrT"
      },
      "execution_count": 244,
      "outputs": []
    },
    {
      "cell_type": "code",
      "source": [
        " model.fit(\n",
        "        Xtrain,\n",
        "        t=ttrain,\n",
        "        quiet=True,\n",
        "        \n",
        "\n",
        "    )"
      ],
      "metadata": {
        "colab": {
          "base_uri": "https://localhost:8080/"
        },
        "id": "rrzjB1ZBFLx5",
        "outputId": "ca1e5eeb-6ca1-4175-be57-afe831daee99"
      },
      "execution_count": 245,
      "outputs": [
        {
          "output_type": "stream",
          "name": "stdout",
          "text": [
            " Iteration ... |y - Xw|^2 ...  a * |w|_2 ...      |w|_0 ... Total error: |y - Xw|^2 + a * |w|_2\n",
            "         0 ... 1.8525e+02 ... 1.1068e+01 ...          4 ... 1.9632e+02\n",
            "         1 ... 2.1668e+01 ... 1.1986e+01 ...          4 ... 3.3655e+01\n"
          ]
        },
        {
          "output_type": "execute_result",
          "data": {
            "text/plain": [
              "SINDy(differentiation_method=FiniteDifference(),\n",
              "      feature_library=<pysindy.feature_library.base.ConcatLibrary object at 0x7fc0ce161290>,\n",
              "      feature_names=['x', 'vx', 'y', 'vy'],\n",
              "      optimizer=STLSQ(alpha=1, max_iter=100, threshold=0.5, verbose=True))"
            ]
          },
          "metadata": {},
          "execution_count": 245
        }
      ]
    },
    {
      "cell_type": "markdown",
      "source": [
        "Printing model equations."
      ],
      "metadata": {
        "id": "prZ9mWgqOfdP"
      }
    },
    {
      "cell_type": "code",
      "source": [
        "model.print()"
      ],
      "metadata": {
        "colab": {
          "base_uri": "https://localhost:8080/"
        },
        "id": "z8MPL1QSFNzz",
        "outputId": "0a8df529-e612-442c-f2e1-e265bd0c3d76"
      },
      "execution_count": 246,
      "outputs": [
        {
          "output_type": "stream",
          "name": "stdout",
          "text": [
            "(x)' = 1.024 vx\n",
            "(vx)' = 0.000\n",
            "(y)' = 1.000 vy\n",
            "(vy)' = -10.000 1\n"
          ]
        }
      ]
    },
    {
      "cell_type": "code",
      "source": [
        "xPred = model.simulate(np.array(initial_condition),ttrain) # Predicting the training data."
      ],
      "metadata": {
        "id": "zjRuqlhdhc8Z"
      },
      "execution_count": 247,
      "outputs": []
    },
    {
      "cell_type": "code",
      "source": [
        "xPlot = [xPred,Xtrain] "
      ],
      "metadata": {
        "id": "SuXsFYmwGRQ5"
      },
      "execution_count": 248,
      "outputs": []
    },
    {
      "cell_type": "markdown",
      "source": [
        "Lastly, the prediction and the training data are being compared.\n",
        "The red trajectory and the blue trajectory should be as close as possible."
      ],
      "metadata": {
        "id": "FHT6fjd4Ojlv"
      }
    },
    {
      "cell_type": "code",
      "source": [
        "plotTrajectory(xPlot)  "
      ],
      "metadata": {
        "colab": {
          "base_uri": "https://localhost:8080/",
          "height": 631
        },
        "id": "ZRSwUAqTiMcJ",
        "outputId": "c7959d10-6d69-4058-c38a-00857dbdf928"
      },
      "execution_count": 249,
      "outputs": [
        {
          "output_type": "display_data",
          "data": {
            "text/plain": [
              "<Figure size 900x700 with 1 Axes>"
            ],
            "image/png": "[encoded data removed]"
          },
          "metadata": {
            "needs_background": "light"
          }
        }
      ]
    }
  ]
}